{
 "cells": [
  {
   "cell_type": "markdown",
   "id": "d42ab573-9d76-4ca8-83a4-b84c0b04d4b2",
   "metadata": {},
   "source": [
    "## Importing Required Packages"
   ]
  },
  {
   "cell_type": "code",
   "execution_count": 4,
   "id": "37bbae98-70c5-41b8-a246-f0ad700ab099",
   "metadata": {},
   "outputs": [],
   "source": [
    "import numpy as np\n",
    "import pandas as pd"
   ]
  },
  {
   "cell_type": "markdown",
   "id": "9ba2a253-cf71-4588-a568-8b4a3f002461",
   "metadata": {},
   "source": [
    "## Load the data"
   ]
  },
  {
   "cell_type": "code",
   "execution_count": 33,
   "id": "812c490a-8e03-48ca-9079-c38223e11506",
   "metadata": {},
   "outputs": [],
   "source": [
    "df = pd.read_csv(\"songdata.csv\")"
   ]
  },
  {
   "cell_type": "markdown",
   "id": "6aa46be3-f37b-4cce-922c-99c37625390b",
   "metadata": {},
   "source": [
    "## EDA"
   ]
  },
  {
   "cell_type": "code",
   "execution_count": 6,
   "id": "62106f54-b10f-4039-bae1-94f747d7f800",
   "metadata": {},
   "outputs": [
    {
     "data": {
      "text/html": [
       "<div>\n",
       "<style scoped>\n",
       "    .dataframe tbody tr th:only-of-type {\n",
       "        vertical-align: middle;\n",
       "    }\n",
       "\n",
       "    .dataframe tbody tr th {\n",
       "        vertical-align: top;\n",
       "    }\n",
       "\n",
       "    .dataframe thead th {\n",
       "        text-align: right;\n",
       "    }\n",
       "</style>\n",
       "<table border=\"1\" class=\"dataframe\">\n",
       "  <thead>\n",
       "    <tr style=\"text-align: right;\">\n",
       "      <th></th>\n",
       "      <th>artist</th>\n",
       "      <th>song</th>\n",
       "      <th>link</th>\n",
       "      <th>text</th>\n",
       "    </tr>\n",
       "  </thead>\n",
       "  <tbody>\n",
       "    <tr>\n",
       "      <th>0</th>\n",
       "      <td>ABBA</td>\n",
       "      <td>Ahe's My Kind Of Girl</td>\n",
       "      <td>/a/abba/ahes+my+kind+of+girl_20598417.html</td>\n",
       "      <td>Look at her face, it's a wonderful face  \\nAnd...</td>\n",
       "    </tr>\n",
       "    <tr>\n",
       "      <th>1</th>\n",
       "      <td>ABBA</td>\n",
       "      <td>Andante, Andante</td>\n",
       "      <td>/a/abba/andante+andante_20002708.html</td>\n",
       "      <td>Take it easy with me, please  \\nTouch me gentl...</td>\n",
       "    </tr>\n",
       "    <tr>\n",
       "      <th>2</th>\n",
       "      <td>ABBA</td>\n",
       "      <td>As Good As New</td>\n",
       "      <td>/a/abba/as+good+as+new_20003033.html</td>\n",
       "      <td>I'll never know why I had to go  \\nWhy I had t...</td>\n",
       "    </tr>\n",
       "    <tr>\n",
       "      <th>3</th>\n",
       "      <td>ABBA</td>\n",
       "      <td>Bang</td>\n",
       "      <td>/a/abba/bang_20598415.html</td>\n",
       "      <td>Making somebody happy is a question of give an...</td>\n",
       "    </tr>\n",
       "    <tr>\n",
       "      <th>4</th>\n",
       "      <td>ABBA</td>\n",
       "      <td>Bang-A-Boomerang</td>\n",
       "      <td>/a/abba/bang+a+boomerang_20002668.html</td>\n",
       "      <td>Making somebody happy is a question of give an...</td>\n",
       "    </tr>\n",
       "    <tr>\n",
       "      <th>5</th>\n",
       "      <td>ABBA</td>\n",
       "      <td>Burning My Bridges</td>\n",
       "      <td>/a/abba/burning+my+bridges_20003011.html</td>\n",
       "      <td>Well, you hoot and you holler and you make me ...</td>\n",
       "    </tr>\n",
       "    <tr>\n",
       "      <th>6</th>\n",
       "      <td>ABBA</td>\n",
       "      <td>Cassandra</td>\n",
       "      <td>/a/abba/cassandra_20002811.html</td>\n",
       "      <td>Down in the street they're all singing and sho...</td>\n",
       "    </tr>\n",
       "    <tr>\n",
       "      <th>7</th>\n",
       "      <td>ABBA</td>\n",
       "      <td>Chiquitita</td>\n",
       "      <td>/a/abba/chiquitita_20002978.html</td>\n",
       "      <td>Chiquitita, tell me what's wrong  \\nYou're enc...</td>\n",
       "    </tr>\n",
       "    <tr>\n",
       "      <th>8</th>\n",
       "      <td>ABBA</td>\n",
       "      <td>Crazy World</td>\n",
       "      <td>/a/abba/crazy+world_20003013.html</td>\n",
       "      <td>I was out with the morning sun  \\nCouldn't sle...</td>\n",
       "    </tr>\n",
       "    <tr>\n",
       "      <th>9</th>\n",
       "      <td>ABBA</td>\n",
       "      <td>Crying Over You</td>\n",
       "      <td>/a/abba/crying+over+you_20177611.html</td>\n",
       "      <td>I'm waitin' for you baby  \\nI'm sitting all al...</td>\n",
       "    </tr>\n",
       "  </tbody>\n",
       "</table>\n",
       "</div>"
      ],
      "text/plain": [
       "  artist                   song                                        link  \\\n",
       "0   ABBA  Ahe's My Kind Of Girl  /a/abba/ahes+my+kind+of+girl_20598417.html   \n",
       "1   ABBA       Andante, Andante       /a/abba/andante+andante_20002708.html   \n",
       "2   ABBA         As Good As New        /a/abba/as+good+as+new_20003033.html   \n",
       "3   ABBA                   Bang                  /a/abba/bang_20598415.html   \n",
       "4   ABBA       Bang-A-Boomerang      /a/abba/bang+a+boomerang_20002668.html   \n",
       "5   ABBA     Burning My Bridges    /a/abba/burning+my+bridges_20003011.html   \n",
       "6   ABBA              Cassandra             /a/abba/cassandra_20002811.html   \n",
       "7   ABBA             Chiquitita            /a/abba/chiquitita_20002978.html   \n",
       "8   ABBA            Crazy World           /a/abba/crazy+world_20003013.html   \n",
       "9   ABBA        Crying Over You       /a/abba/crying+over+you_20177611.html   \n",
       "\n",
       "                                                text  \n",
       "0  Look at her face, it's a wonderful face  \\nAnd...  \n",
       "1  Take it easy with me, please  \\nTouch me gentl...  \n",
       "2  I'll never know why I had to go  \\nWhy I had t...  \n",
       "3  Making somebody happy is a question of give an...  \n",
       "4  Making somebody happy is a question of give an...  \n",
       "5  Well, you hoot and you holler and you make me ...  \n",
       "6  Down in the street they're all singing and sho...  \n",
       "7  Chiquitita, tell me what's wrong  \\nYou're enc...  \n",
       "8  I was out with the morning sun  \\nCouldn't sle...  \n",
       "9  I'm waitin' for you baby  \\nI'm sitting all al...  "
      ]
     },
     "execution_count": 6,
     "metadata": {},
     "output_type": "execute_result"
    }
   ],
   "source": [
    "# read first 10 records\n",
    "df.head(10)"
   ]
  },
  {
   "cell_type": "code",
   "execution_count": 7,
   "id": "a81ade75-47bc-4889-addc-4b1f12b65659",
   "metadata": {},
   "outputs": [
    {
     "data": {
      "text/html": [
       "<div>\n",
       "<style scoped>\n",
       "    .dataframe tbody tr th:only-of-type {\n",
       "        vertical-align: middle;\n",
       "    }\n",
       "\n",
       "    .dataframe tbody tr th {\n",
       "        vertical-align: top;\n",
       "    }\n",
       "\n",
       "    .dataframe thead th {\n",
       "        text-align: right;\n",
       "    }\n",
       "</style>\n",
       "<table border=\"1\" class=\"dataframe\">\n",
       "  <thead>\n",
       "    <tr style=\"text-align: right;\">\n",
       "      <th></th>\n",
       "      <th>artist</th>\n",
       "      <th>song</th>\n",
       "      <th>link</th>\n",
       "      <th>text</th>\n",
       "    </tr>\n",
       "  </thead>\n",
       "  <tbody>\n",
       "    <tr>\n",
       "      <th>57640</th>\n",
       "      <td>Zebrahead</td>\n",
       "      <td>The Setup</td>\n",
       "      <td>/z/zebrahead/the+setup_10198494.html</td>\n",
       "      <td>Lie to me  \\nTell me that everything will be a...</td>\n",
       "    </tr>\n",
       "    <tr>\n",
       "      <th>57641</th>\n",
       "      <td>Ziggy Marley</td>\n",
       "      <td>Freedom Road</td>\n",
       "      <td>/z/ziggy+marley/freedom+road_20531174.html</td>\n",
       "      <td>That's why I'm marching, yes, I'm marching,  \\...</td>\n",
       "    </tr>\n",
       "    <tr>\n",
       "      <th>57642</th>\n",
       "      <td>Ziggy Marley</td>\n",
       "      <td>Friend</td>\n",
       "      <td>/z/ziggy+marley/friend_20673508.html</td>\n",
       "      <td>[Chorus]  \\nI wanna thank you for the things y...</td>\n",
       "    </tr>\n",
       "    <tr>\n",
       "      <th>57643</th>\n",
       "      <td>Ziggy Marley</td>\n",
       "      <td>G7</td>\n",
       "      <td>/z/ziggy+marley/g7_20531173.html</td>\n",
       "      <td>Seven richest countries in the world  \\nThem h...</td>\n",
       "    </tr>\n",
       "    <tr>\n",
       "      <th>57644</th>\n",
       "      <td>Ziggy Marley</td>\n",
       "      <td>Generation</td>\n",
       "      <td>/z/ziggy+marley/generation_20531171.html</td>\n",
       "      <td>Many generation have passed away  \\nFighting f...</td>\n",
       "    </tr>\n",
       "    <tr>\n",
       "      <th>57645</th>\n",
       "      <td>Ziggy Marley</td>\n",
       "      <td>Good Old Days</td>\n",
       "      <td>/z/ziggy+marley/good+old+days_10198588.html</td>\n",
       "      <td>Irie days come on play  \\nLet the angels fly l...</td>\n",
       "    </tr>\n",
       "    <tr>\n",
       "      <th>57646</th>\n",
       "      <td>Ziggy Marley</td>\n",
       "      <td>Hand To Mouth</td>\n",
       "      <td>/z/ziggy+marley/hand+to+mouth_20531167.html</td>\n",
       "      <td>Power to the workers  \\nMore power  \\nPower to...</td>\n",
       "    </tr>\n",
       "    <tr>\n",
       "      <th>57647</th>\n",
       "      <td>Zwan</td>\n",
       "      <td>Come With Me</td>\n",
       "      <td>/z/zwan/come+with+me_20148981.html</td>\n",
       "      <td>all you need  \\nis something i'll believe  \\nf...</td>\n",
       "    </tr>\n",
       "    <tr>\n",
       "      <th>57648</th>\n",
       "      <td>Zwan</td>\n",
       "      <td>Desire</td>\n",
       "      <td>/z/zwan/desire_20148986.html</td>\n",
       "      <td>northern star  \\nam i frightened  \\nwhere can ...</td>\n",
       "    </tr>\n",
       "    <tr>\n",
       "      <th>57649</th>\n",
       "      <td>Zwan</td>\n",
       "      <td>Heartsong</td>\n",
       "      <td>/z/zwan/heartsong_20148991.html</td>\n",
       "      <td>come in  \\nmake yourself at home  \\ni'm a bit ...</td>\n",
       "    </tr>\n",
       "  </tbody>\n",
       "</table>\n",
       "</div>"
      ],
      "text/plain": [
       "             artist           song  \\\n",
       "57640     Zebrahead      The Setup   \n",
       "57641  Ziggy Marley   Freedom Road   \n",
       "57642  Ziggy Marley         Friend   \n",
       "57643  Ziggy Marley             G7   \n",
       "57644  Ziggy Marley     Generation   \n",
       "57645  Ziggy Marley  Good Old Days   \n",
       "57646  Ziggy Marley  Hand To Mouth   \n",
       "57647          Zwan   Come With Me   \n",
       "57648          Zwan         Desire   \n",
       "57649          Zwan      Heartsong   \n",
       "\n",
       "                                              link  \\\n",
       "57640         /z/zebrahead/the+setup_10198494.html   \n",
       "57641   /z/ziggy+marley/freedom+road_20531174.html   \n",
       "57642         /z/ziggy+marley/friend_20673508.html   \n",
       "57643             /z/ziggy+marley/g7_20531173.html   \n",
       "57644     /z/ziggy+marley/generation_20531171.html   \n",
       "57645  /z/ziggy+marley/good+old+days_10198588.html   \n",
       "57646  /z/ziggy+marley/hand+to+mouth_20531167.html   \n",
       "57647           /z/zwan/come+with+me_20148981.html   \n",
       "57648                 /z/zwan/desire_20148986.html   \n",
       "57649              /z/zwan/heartsong_20148991.html   \n",
       "\n",
       "                                                    text  \n",
       "57640  Lie to me  \\nTell me that everything will be a...  \n",
       "57641  That's why I'm marching, yes, I'm marching,  \\...  \n",
       "57642  [Chorus]  \\nI wanna thank you for the things y...  \n",
       "57643  Seven richest countries in the world  \\nThem h...  \n",
       "57644  Many generation have passed away  \\nFighting f...  \n",
       "57645  Irie days come on play  \\nLet the angels fly l...  \n",
       "57646  Power to the workers  \\nMore power  \\nPower to...  \n",
       "57647  all you need  \\nis something i'll believe  \\nf...  \n",
       "57648  northern star  \\nam i frightened  \\nwhere can ...  \n",
       "57649  come in  \\nmake yourself at home  \\ni'm a bit ...  "
      ]
     },
     "execution_count": 7,
     "metadata": {},
     "output_type": "execute_result"
    }
   ],
   "source": [
    "# read last 10 records\n",
    "df.tail(10)"
   ]
  },
  {
   "cell_type": "code",
   "execution_count": 8,
   "id": "1741b2f3-ae02-428f-aee3-f5975ec8d9f0",
   "metadata": {},
   "outputs": [
    {
     "name": "stdout",
     "output_type": "stream",
     "text": [
      "<class 'pandas.core.frame.DataFrame'>\n",
      "RangeIndex: 57650 entries, 0 to 57649\n",
      "Data columns (total 4 columns):\n",
      " #   Column  Non-Null Count  Dtype \n",
      "---  ------  --------------  ----- \n",
      " 0   artist  57650 non-null  object\n",
      " 1   song    57650 non-null  object\n",
      " 2   link    57650 non-null  object\n",
      " 3   text    57650 non-null  object\n",
      "dtypes: object(4)\n",
      "memory usage: 1.8+ MB\n"
     ]
    }
   ],
   "source": [
    "# get the general info about the data set\n",
    "df.info()"
   ]
  },
  {
   "cell_type": "code",
   "execution_count": 9,
   "id": "c07eee98-eb98-471c-af8e-bd5ede058eba",
   "metadata": {},
   "outputs": [
    {
     "data": {
      "text/plain": [
       "(57650, 4)"
      ]
     },
     "execution_count": 9,
     "metadata": {},
     "output_type": "execute_result"
    }
   ],
   "source": [
    "df.shape"
   ]
  },
  {
   "cell_type": "markdown",
   "id": "dac32064-a738-4154-9c2d-af0f1ddebfd3",
   "metadata": {},
   "source": [
    "## Checking for null values"
   ]
  },
  {
   "cell_type": "code",
   "execution_count": 10,
   "id": "7b0149ad-2517-40fb-85c0-afa258930a9e",
   "metadata": {},
   "outputs": [
    {
     "data": {
      "text/plain": [
       "artist    0\n",
       "song      0\n",
       "link      0\n",
       "text      0\n",
       "dtype: int64"
      ]
     },
     "execution_count": 10,
     "metadata": {},
     "output_type": "execute_result"
    }
   ],
   "source": [
    "df.isnull().sum()"
   ]
  },
  {
   "cell_type": "markdown",
   "id": "6496feca-d9b2-43fd-9001-b5f759438747",
   "metadata": {},
   "source": [
    "## Removing unwanted columns"
   ]
  },
  {
   "cell_type": "code",
   "execution_count": 34,
   "id": "4d1cdd9a-b8e9-40b2-b80f-d10c0ce246a6",
   "metadata": {},
   "outputs": [],
   "source": [
    "df = df.drop('link',axis=1).reset_index(drop=True)"
   ]
  },
  {
   "cell_type": "code",
   "execution_count": 12,
   "id": "f178c074-08df-49f9-bb68-28ae2836f562",
   "metadata": {},
   "outputs": [
    {
     "data": {
      "text/html": [
       "<div>\n",
       "<style scoped>\n",
       "    .dataframe tbody tr th:only-of-type {\n",
       "        vertical-align: middle;\n",
       "    }\n",
       "\n",
       "    .dataframe tbody tr th {\n",
       "        vertical-align: top;\n",
       "    }\n",
       "\n",
       "    .dataframe thead th {\n",
       "        text-align: right;\n",
       "    }\n",
       "</style>\n",
       "<table border=\"1\" class=\"dataframe\">\n",
       "  <thead>\n",
       "    <tr style=\"text-align: right;\">\n",
       "      <th></th>\n",
       "      <th>artist</th>\n",
       "      <th>song</th>\n",
       "      <th>text</th>\n",
       "    </tr>\n",
       "  </thead>\n",
       "  <tbody>\n",
       "    <tr>\n",
       "      <th>0</th>\n",
       "      <td>Bee Gees</td>\n",
       "      <td>King And Country</td>\n",
       "      <td>All the love of my mother, I offer to you  \\nA...</td>\n",
       "    </tr>\n",
       "    <tr>\n",
       "      <th>1</th>\n",
       "      <td>Will Smith</td>\n",
       "      <td>Yes Yes Y'all</td>\n",
       "      <td>Yes  \\nAt the start of the new jiggyness  \\nWi...</td>\n",
       "    </tr>\n",
       "    <tr>\n",
       "      <th>2</th>\n",
       "      <td>George Strait</td>\n",
       "      <td>I'd Like To Have That One Back</td>\n",
       "      <td>Heard somebody speak her name  \\nThey said she...</td>\n",
       "    </tr>\n",
       "    <tr>\n",
       "      <th>3</th>\n",
       "      <td>Bette Midler</td>\n",
       "      <td>All I Need Is The Girl</td>\n",
       "      <td>I pretend I'm at home getting dressed for a da...</td>\n",
       "    </tr>\n",
       "    <tr>\n",
       "      <th>4</th>\n",
       "      <td>Nick Cave</td>\n",
       "      <td>Babe, You Turn Me On</td>\n",
       "      <td>Stay by me, stay by me  \\nYou are the one, my ...</td>\n",
       "    </tr>\n",
       "    <tr>\n",
       "      <th>5</th>\n",
       "      <td>Dave Matthews Band</td>\n",
       "      <td>Spaceman</td>\n",
       "      <td>Probably get it wrong just to get it right, gi...</td>\n",
       "    </tr>\n",
       "    <tr>\n",
       "      <th>6</th>\n",
       "      <td>Within Temptation</td>\n",
       "      <td>The Other Half (Of Me)</td>\n",
       "      <td>Over the hills lies a new beginning, over the ...</td>\n",
       "    </tr>\n",
       "    <tr>\n",
       "      <th>7</th>\n",
       "      <td>Neil Young</td>\n",
       "      <td>Driveby</td>\n",
       "      <td>It's a random kind of thing  \\nCame upon a del...</td>\n",
       "    </tr>\n",
       "    <tr>\n",
       "      <th>8</th>\n",
       "      <td>Leonard Cohen</td>\n",
       "      <td>Here It Is</td>\n",
       "      <td>Here is your crown  \\nAnd your seal and rings ...</td>\n",
       "    </tr>\n",
       "    <tr>\n",
       "      <th>9</th>\n",
       "      <td>Foreigner</td>\n",
       "      <td>Died In Your Arm Tonight</td>\n",
       "      <td>Oh I, I just died in your arms tonight  \\nIt m...</td>\n",
       "    </tr>\n",
       "  </tbody>\n",
       "</table>\n",
       "</div>"
      ],
      "text/plain": [
       "               artist                            song  \\\n",
       "0            Bee Gees                King And Country   \n",
       "1          Will Smith                   Yes Yes Y'all   \n",
       "2       George Strait  I'd Like To Have That One Back   \n",
       "3        Bette Midler          All I Need Is The Girl   \n",
       "4           Nick Cave            Babe, You Turn Me On   \n",
       "5  Dave Matthews Band                        Spaceman   \n",
       "6   Within Temptation          The Other Half (Of Me)   \n",
       "7          Neil Young                         Driveby   \n",
       "8       Leonard Cohen                      Here It Is   \n",
       "9           Foreigner        Died In Your Arm Tonight   \n",
       "\n",
       "                                                text  \n",
       "0  All the love of my mother, I offer to you  \\nA...  \n",
       "1  Yes  \\nAt the start of the new jiggyness  \\nWi...  \n",
       "2  Heard somebody speak her name  \\nThey said she...  \n",
       "3  I pretend I'm at home getting dressed for a da...  \n",
       "4  Stay by me, stay by me  \\nYou are the one, my ...  \n",
       "5  Probably get it wrong just to get it right, gi...  \n",
       "6  Over the hills lies a new beginning, over the ...  \n",
       "7  It's a random kind of thing  \\nCame upon a del...  \n",
       "8  Here is your crown  \\nAnd your seal and rings ...  \n",
       "9  Oh I, I just died in your arms tonight  \\nIt m...  "
      ]
     },
     "execution_count": 12,
     "metadata": {},
     "output_type": "execute_result"
    }
   ],
   "source": [
    "df.head(10)"
   ]
  },
  {
   "cell_type": "markdown",
   "id": "76f0452c-907a-4c77-a319-70226e1d715c",
   "metadata": {},
   "source": [
    "## Checking Duplicate rows"
   ]
  },
  {
   "cell_type": "code",
   "execution_count": 13,
   "id": "f3d00da2-0e42-4850-a04d-253c0c98b6de",
   "metadata": {},
   "outputs": [
    {
     "name": "stdout",
     "output_type": "stream",
     "text": [
      "Total duplicate rows: 0\n"
     ]
    }
   ],
   "source": [
    "# Count total duplicates\n",
    "total_duplicates = df.duplicated().sum()\n",
    "print(f'Total duplicate rows: {total_duplicates}')"
   ]
  },
  {
   "cell_type": "code",
   "execution_count": 14,
   "id": "49d65267-09d8-4711-881d-f8bc70dfdfa0",
   "metadata": {},
   "outputs": [
    {
     "data": {
      "text/plain": [
       "\"All the love of my mother, I offer to you  \\nAnd I'll try so very hard , to get you through  \\nIf lay down my life, for my King and country men  \\nWould it change you for the better  \\nIt better be all right  \\nTo be always like children  \\nAfraid of the night  \\n  \\nIf I gave up the cause , what would you give me  \\nto make up for all the things that I would lose  \\nIf I lay down my life , for my King and country men  \\nWould it change you for the better  \\nIt better be all right  \\nTo be always like children  \\nAfraid of the night  \\n  \\nWell you better get busy , get it over and done  \\nI was here when you arrived , I'll be here when you're gone  \\nIf I give up my life for my King and country men  \\nWould it change you for the better  \\nIt better be all right  \\nTo be never like people  \\nAfraid of the night  \\n  \\nDo do do , etc ... (fade out)\\n\\n\""
      ]
     },
     "execution_count": 14,
     "metadata": {},
     "output_type": "execute_result"
    }
   ],
   "source": [
    "df['text'][0]"
   ]
  },
  {
   "cell_type": "markdown",
   "id": "11d1e474-a627-46da-9e0a-97380fe6cf3c",
   "metadata": {},
   "source": [
    "## Text Preprocessing"
   ]
  },
  {
   "cell_type": "code",
   "execution_count": 35,
   "id": "e160fee2-e260-41d7-b3ee-fdcc37a4f75f",
   "metadata": {},
   "outputs": [
    {
     "data": {
      "text/plain": [
       "0        look at her face, it's a wonderful face   and ...\n",
       "1        take it easy with me, please   touch me gently...\n",
       "2        i'll never know why i had to go   why i had to...\n",
       "3        making somebody happy is a question of give an...\n",
       "4        making somebody happy is a question of give an...\n",
       "                               ...                        \n",
       "57645    irie days come on play   let the angels fly le...\n",
       "57646    power to the workers   more power   power to t...\n",
       "57647    all you need   is something i'll believe   fla...\n",
       "57648    northern star   am i frightened   where can i ...\n",
       "57649    come in   make yourself at home   i'm a bit la...\n",
       "Name: text, Length: 57650, dtype: object"
      ]
     },
     "execution_count": 35,
     "metadata": {},
     "output_type": "execute_result"
    }
   ],
   "source": [
    "df['text'] = df['text'].str.lower().replace(r'^\\w\\s',' ').replace(r'\\n',' ',regex=True)\n",
    "df['text']"
   ]
  },
  {
   "cell_type": "code",
   "execution_count": 36,
   "id": "a96b4019-88bd-4d18-80f0-72d2b5a7bf4a",
   "metadata": {},
   "outputs": [
    {
     "data": {
      "text/html": [
       "<div>\n",
       "<style scoped>\n",
       "    .dataframe tbody tr th:only-of-type {\n",
       "        vertical-align: middle;\n",
       "    }\n",
       "\n",
       "    .dataframe tbody tr th {\n",
       "        vertical-align: top;\n",
       "    }\n",
       "\n",
       "    .dataframe thead th {\n",
       "        text-align: right;\n",
       "    }\n",
       "</style>\n",
       "<table border=\"1\" class=\"dataframe\">\n",
       "  <thead>\n",
       "    <tr style=\"text-align: right;\">\n",
       "      <th></th>\n",
       "      <th>artist</th>\n",
       "      <th>song</th>\n",
       "      <th>text</th>\n",
       "    </tr>\n",
       "  </thead>\n",
       "  <tbody>\n",
       "    <tr>\n",
       "      <th>0</th>\n",
       "      <td>ABBA</td>\n",
       "      <td>Ahe's My Kind Of Girl</td>\n",
       "      <td>look at her face, it's a wonderful face   and ...</td>\n",
       "    </tr>\n",
       "    <tr>\n",
       "      <th>1</th>\n",
       "      <td>ABBA</td>\n",
       "      <td>Andante, Andante</td>\n",
       "      <td>take it easy with me, please   touch me gently...</td>\n",
       "    </tr>\n",
       "    <tr>\n",
       "      <th>2</th>\n",
       "      <td>ABBA</td>\n",
       "      <td>As Good As New</td>\n",
       "      <td>i'll never know why i had to go   why i had to...</td>\n",
       "    </tr>\n",
       "    <tr>\n",
       "      <th>3</th>\n",
       "      <td>ABBA</td>\n",
       "      <td>Bang</td>\n",
       "      <td>making somebody happy is a question of give an...</td>\n",
       "    </tr>\n",
       "    <tr>\n",
       "      <th>4</th>\n",
       "      <td>ABBA</td>\n",
       "      <td>Bang-A-Boomerang</td>\n",
       "      <td>making somebody happy is a question of give an...</td>\n",
       "    </tr>\n",
       "    <tr>\n",
       "      <th>...</th>\n",
       "      <td>...</td>\n",
       "      <td>...</td>\n",
       "      <td>...</td>\n",
       "    </tr>\n",
       "    <tr>\n",
       "      <th>57645</th>\n",
       "      <td>Ziggy Marley</td>\n",
       "      <td>Good Old Days</td>\n",
       "      <td>irie days come on play   let the angels fly le...</td>\n",
       "    </tr>\n",
       "    <tr>\n",
       "      <th>57646</th>\n",
       "      <td>Ziggy Marley</td>\n",
       "      <td>Hand To Mouth</td>\n",
       "      <td>power to the workers   more power   power to t...</td>\n",
       "    </tr>\n",
       "    <tr>\n",
       "      <th>57647</th>\n",
       "      <td>Zwan</td>\n",
       "      <td>Come With Me</td>\n",
       "      <td>all you need   is something i'll believe   fla...</td>\n",
       "    </tr>\n",
       "    <tr>\n",
       "      <th>57648</th>\n",
       "      <td>Zwan</td>\n",
       "      <td>Desire</td>\n",
       "      <td>northern star   am i frightened   where can i ...</td>\n",
       "    </tr>\n",
       "    <tr>\n",
       "      <th>57649</th>\n",
       "      <td>Zwan</td>\n",
       "      <td>Heartsong</td>\n",
       "      <td>come in   make yourself at home   i'm a bit la...</td>\n",
       "    </tr>\n",
       "  </tbody>\n",
       "</table>\n",
       "<p>57650 rows × 3 columns</p>\n",
       "</div>"
      ],
      "text/plain": [
       "             artist                   song  \\\n",
       "0              ABBA  Ahe's My Kind Of Girl   \n",
       "1              ABBA       Andante, Andante   \n",
       "2              ABBA         As Good As New   \n",
       "3              ABBA                   Bang   \n",
       "4              ABBA       Bang-A-Boomerang   \n",
       "...             ...                    ...   \n",
       "57645  Ziggy Marley          Good Old Days   \n",
       "57646  Ziggy Marley          Hand To Mouth   \n",
       "57647          Zwan           Come With Me   \n",
       "57648          Zwan                 Desire   \n",
       "57649          Zwan              Heartsong   \n",
       "\n",
       "                                                    text  \n",
       "0      look at her face, it's a wonderful face   and ...  \n",
       "1      take it easy with me, please   touch me gently...  \n",
       "2      i'll never know why i had to go   why i had to...  \n",
       "3      making somebody happy is a question of give an...  \n",
       "4      making somebody happy is a question of give an...  \n",
       "...                                                  ...  \n",
       "57645  irie days come on play   let the angels fly le...  \n",
       "57646  power to the workers   more power   power to t...  \n",
       "57647  all you need   is something i'll believe   fla...  \n",
       "57648  northern star   am i frightened   where can i ...  \n",
       "57649  come in   make yourself at home   i'm a bit la...  \n",
       "\n",
       "[57650 rows x 3 columns]"
      ]
     },
     "execution_count": 36,
     "metadata": {},
     "output_type": "execute_result"
    }
   ],
   "source": [
    "df"
   ]
  },
  {
   "cell_type": "markdown",
   "id": "cb1f6b25-9e3a-43ed-bae7-296eddbb8cfa",
   "metadata": {},
   "source": [
    "## Importing nltk"
   ]
  },
  {
   "cell_type": "code",
   "execution_count": 17,
   "id": "d229808e-2c81-45fa-b437-f2aa4d3143a8",
   "metadata": {},
   "outputs": [],
   "source": [
    "import nltk \n",
    "from nltk.stem.porter import PorterStemmer"
   ]
  },
  {
   "cell_type": "markdown",
   "id": "eb07835c-fa4f-49ff-8c18-f1c7ed28dd6d",
   "metadata": {},
   "source": [
    "## Creating Instance"
   ]
  },
  {
   "cell_type": "code",
   "execution_count": 18,
   "id": "c4019f6e-bb57-4c45-a094-442d7dcb63c6",
   "metadata": {},
   "outputs": [],
   "source": [
    "stemmer = PorterStemmer()"
   ]
  },
  {
   "cell_type": "code",
   "execution_count": 19,
   "id": "3017971b-8c65-4162-ac37-d4dffa5dd41f",
   "metadata": {},
   "outputs": [],
   "source": [
    "# Function for Tokenization and Stemming\n",
    "def token(txt): \n",
    "    token = nltk.word_tokenize(txt)\n",
    "    a = [stemmer.stem(w) for w in token]\n",
    "    return \" \".join(a)"
   ]
  },
  {
   "cell_type": "code",
   "execution_count": 20,
   "id": "1316b6f7-96f4-4809-b151-8af53c2a17f4",
   "metadata": {},
   "outputs": [
    {
     "data": {
      "text/plain": [
       "'you are beauti , beauti'"
      ]
     },
     "execution_count": 20,
     "metadata": {},
     "output_type": "execute_result"
    }
   ],
   "source": [
    "token(\"you are beautiful, beauty\")"
   ]
  },
  {
   "cell_type": "markdown",
   "id": "130ca6e1-0dce-4683-8786-a0caca2a6330",
   "metadata": {},
   "source": [
    "## Prepocess every text in the DataFrame "
   ]
  },
  {
   "cell_type": "code",
   "execution_count": 37,
   "id": "88238e8d-1cb9-4a84-885f-af818efd40e8",
   "metadata": {},
   "outputs": [
    {
     "data": {
      "text/plain": [
       "0        look at her face , it 's a wonder face and it ...\n",
       "1        take it easi with me , pleas touch me gentli l...\n",
       "2        i 'll never know whi i had to go whi i had to ...\n",
       "3        make somebodi happi is a question of give and ...\n",
       "4        make somebodi happi is a question of give and ...\n",
       "                               ...                        \n",
       "57645    iri day come on play let the angel fli let the...\n",
       "57646    power to the worker more power power to the wo...\n",
       "57647    all you need is someth i 'll believ flashlight...\n",
       "57648    northern star am i frighten where can i go to ...\n",
       "57649    come in make yourself at home i 'm a bit late ...\n",
       "Name: text, Length: 57650, dtype: object"
      ]
     },
     "execution_count": 37,
     "metadata": {},
     "output_type": "execute_result"
    }
   ],
   "source": [
    "df['text'].apply(lambda x: token(x))"
   ]
  },
  {
   "cell_type": "markdown",
   "id": "042ae29f-435d-426c-b452-d178cad15fe6",
   "metadata": {},
   "source": [
    "## Importing Tf-idf and cosine-similarity"
   ]
  },
  {
   "cell_type": "code",
   "execution_count": 22,
   "id": "0f0cc068-9e11-4508-a823-527bf3671d58",
   "metadata": {},
   "outputs": [],
   "source": [
    "from sklearn.feature_extraction.text import TfidfVectorizer \n",
    "from sklearn.metrics.pairwise import cosine_similarity"
   ]
  },
  {
   "cell_type": "markdown",
   "id": "5339b57f-3424-49ae-a342-5716ecbe80ee",
   "metadata": {},
   "source": [
    "## Removing Stop words"
   ]
  },
  {
   "cell_type": "code",
   "execution_count": 23,
   "id": "18115cf2-148c-4cc5-ab15-85360902df75",
   "metadata": {},
   "outputs": [],
   "source": [
    "tfid = TfidfVectorizer(analyzer='word', stop_words='english')"
   ]
  },
  {
   "cell_type": "code",
   "execution_count": 38,
   "id": "0585758b-8108-416d-baa0-1ad4624d2730",
   "metadata": {},
   "outputs": [
    {
     "data": {
      "text/plain": [
       "<Compressed Sparse Row sparse matrix of dtype 'float64'\n",
       "\twith 3095478 stored elements and shape (57650, 82077)>"
      ]
     },
     "execution_count": 38,
     "metadata": {},
     "output_type": "execute_result"
    }
   ],
   "source": [
    "matrix = tfid.fit_transform(df['text'])\n",
    "matrix"
   ]
  },
  {
   "cell_type": "markdown",
   "id": "c66219eb-ff67-4e3c-b886-79e98e2873b1",
   "metadata": {},
   "source": [
    "## Calculating similarity "
   ]
  },
  {
   "cell_type": "code",
   "execution_count": 25,
   "id": "6ab6b88e-5cd1-4f4c-89e1-5caf3a18792c",
   "metadata": {},
   "outputs": [],
   "source": [
    "similar = cosine_similarity(matrix)"
   ]
  },
  {
   "cell_type": "code",
   "execution_count": 26,
   "id": "fe54b419-348d-4e09-996d-7a054f382fd9",
   "metadata": {},
   "outputs": [
    {
     "data": {
      "text/plain": [
       "array([1.        , 0.03204656, 0.05821039, ..., 0.02450503, 0.00178709,\n",
       "       0.00824724])"
      ]
     },
     "execution_count": 26,
     "metadata": {},
     "output_type": "execute_result"
    }
   ],
   "source": [
    "similar[0]"
   ]
  },
  {
   "cell_type": "markdown",
   "id": "aa9092ee-83ea-4c81-8d89-4b234488e00c",
   "metadata": {},
   "source": [
    "## Recommender Function"
   ]
  },
  {
   "cell_type": "code",
   "execution_count": 27,
   "id": "4eb7419f-a16f-4b9b-b615-6705bb8b2ef2",
   "metadata": {},
   "outputs": [],
   "source": [
    "def recommender(song_name): \n",
    "    idx = df[df['song'] == song_name].index[0]\n",
    "    distance = sorted(list(enumerate(similar[idx])), reverse=True, key=lambda x:x[1]) \n",
    "    song = []\n",
    "    for s_id in distance[1:6]: \n",
    "        song.append(df.iloc[s_id[0]].song) \n",
    "    return song"
   ]
  },
  {
   "cell_type": "code",
   "execution_count": 28,
   "id": "0e9fb23d-7151-4ae0-9ebc-675ed57c2322",
   "metadata": {},
   "outputs": [
    {
     "data": {
      "text/plain": [
       "['Believe In Life',\n",
       " 'Say You Really Want Me',\n",
       " 'I Feel For You',\n",
       " \"Don't Believe What You Read\",\n",
       " 'Nobody']"
      ]
     },
     "execution_count": 28,
     "metadata": {},
     "output_type": "execute_result"
    }
   ],
   "source": [
    "recommender(\"Believe\")"
   ]
  },
  {
   "cell_type": "markdown",
   "id": "31b8c901-467a-4015-8830-8b56aa5e4cbb",
   "metadata": {},
   "source": [
    "## Downlading the pickle files"
   ]
  },
  {
   "cell_type": "code",
   "execution_count": 29,
   "id": "1794fa29-ecdc-4129-aa70-12c31c475a40",
   "metadata": {},
   "outputs": [],
   "source": [
    "import pickle"
   ]
  },
  {
   "cell_type": "code",
   "execution_count": 30,
   "id": "e42d296f-3a94-40e2-a575-a00950403d0b",
   "metadata": {},
   "outputs": [],
   "source": [
    "with open(\"similarity.pkl\", \"wb\") as file:\n",
    "    pickle.dump(similar, file)"
   ]
  },
  {
   "cell_type": "code",
   "execution_count": 31,
   "id": "02c1cd3e-9010-4599-9c66-d7124604336d",
   "metadata": {},
   "outputs": [],
   "source": [
    "with open(\"df.pkl\", \"wb\") as file:\n",
    "    pickle.dump(df, file)"
   ]
  },
  {
   "cell_type": "code",
   "execution_count": null,
   "id": "748afd20-f826-40d8-80f5-0269d07891f6",
   "metadata": {},
   "outputs": [],
   "source": []
  }
 ],
 "metadata": {
  "kernelspec": {
   "display_name": "Python 3 (ipykernel)",
   "language": "python",
   "name": "python3"
  },
  "language_info": {
   "codemirror_mode": {
    "name": "ipython",
    "version": 3
   },
   "file_extension": ".py",
   "mimetype": "text/x-python",
   "name": "python",
   "nbconvert_exporter": "python",
   "pygments_lexer": "ipython3",
   "version": "3.12.5"
  }
 },
 "nbformat": 4,
 "nbformat_minor": 5
}
